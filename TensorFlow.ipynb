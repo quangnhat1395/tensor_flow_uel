{
  "nbformat": 4,
  "nbformat_minor": 0,
  "metadata": {
    "colab": {
      "name": "Tf.ipynb",
      "provenance": [],
      "include_colab_link": true
    },
    "kernelspec": {
      "name": "python3",
      "display_name": "Python 3"
    }
  },
  "cells": [
    {
      "cell_type": "markdown",
      "metadata": {
        "id": "view-in-github",
        "colab_type": "text"
      },
      "source": [
        "<a href=\"https://colab.research.google.com/github/quangnhat1395/tensor_flow_uel/blob/master/TensorFlow.ipynb\" target=\"_parent\"><img src=\"https://colab.research.google.com/assets/colab-badge.svg\" alt=\"Open In Colab\"/></a>"
      ]
    },
    {
      "cell_type": "markdown",
      "metadata": {
        "id": "102WFVibuNAt",
        "colab_type": "text"
      },
      "source": [
        "#1 Giới thiệu chung\n",
        "Trong học máy, mạng neuron ngày càng được quan tâm và đã đạt được những thành tựu nhất định. Tiêu biểu như trong các lĩnh vực: Nhận diện hình ảnh (Krizhevsky, Sutskever,& Hinton, 2012), giọng nói (Collobert & Weston, 2008), và tin sinh học (Min, Lee, & Yoon, 2017). Các mô hình được xây dựng dựa trên các vấn đề thực tiễn như phân tích hành vi, an toàn thông tin,... với lượng thông tin cần được xử lý rất lớn.\n",
        "\n",
        "Trong bối cảnh đó, nhiều công cụ mạnh mẽ, hiệu quả, linh hoạt đã được phát triển nhằm xử lý mạng neuron nói riêng, học máy nói chung, qua đó đẩy nhanh tiến độ nghiên cứu và ứng dụng các mô hình mạng neuron. Trong số các công cụ đó, TensorFlow nổi bật với khả năng tính toán mạnh mẽ, dễ sử dụng và có mức độ phổ biến cao cả trong nghiên cứu lẫn ứng dụng thực tế. Bài viết này nhằm mang lại cái nhìn tổng quan về mạng neuron trong học máy, cũng như việc sử dụng TensorFlow để giải quyết các bài toán liên quan. \n",
        "#2. Tổng quan về TensorFlow\n",
        "\n",
        "TensorFlow là một nền tảng mã nguồn mở của Google phục vụ cho việc học tập, nghiên cứu và thực thi các dự án Machine learning. Nó có một hệ sinh thái toàn diện, linh hoạt bao gồm các công cụ, gói lệnh (package) cũng như có một cộng đồng hỗ trợ rộng lớn. Cho đến nay, có 2 phiên bản TensorFlow đã được ra đời, phiên bản 1x, và hiện tại là 2x. Có rất nhiều sự khác biệt giữa chúng, nên ở đây ta chỉ quan tâm đến TensorFlow 2x. \n",
        "\n",
        "Kể từ khi ra đời, TensorFlow ngày càng trở nên phổ biến trong cộng đồng Machine learning nói chung. Điều này thể hiện rõ ở số bài báo sử dụng TensorFlow ngày càng gia tăng.\n",
        "\n",
        "![Các thư viện deep learning tương ứng với các hãng công nghệ lớn](https://uphinh.vn/images/2020/07/20/eb4e44684f39472be0c23d6cf202a5af.md.png)\n",
        "\n",
        "\n",
        "\n"
      ]
    },
    {
      "cell_type": "markdown",
      "metadata": {
        "id": "X2uaZnZJ488u",
        "colab_type": "text"
      },
      "source": [
        "\n",
        "Để cài đặt thư viện TensorFlow, trước tiên, ta cần cập nhật phiên bản **pip** của mình lên phiên bản mới nhất. Đây là một trình quản lý thư viện cho Python."
      ]
    },
    {
      "cell_type": "code",
      "metadata": {
        "id": "9LaJU1iw5cPh",
        "colab_type": "code",
        "colab": {}
      },
      "source": [
        "pip install --upgrade pip\n"
      ],
      "execution_count": null,
      "outputs": []
    },
    {
      "cell_type": "markdown",
      "metadata": {
        "id": "gv2tq-pd6-JB",
        "colab_type": "text"
      },
      "source": [
        "Tiếp theo, chúng ta sẽ cài đặt thư viện TensorFlow thông qua trình quản lý **pip** bằng câu lệnh dưới đây. Lưu ý, trong môi trường Colab của Google đã được tích hợp sẵn thư viện TensorFlow, nên ta không cần cài đặt thêm."
      ]
    },
    {
      "cell_type": "code",
      "metadata": {
        "id": "AQPfQdIB7Z9g",
        "colab_type": "code",
        "colab": {
          "base_uri": "https://localhost:8080/",
          "height": 718
        },
        "outputId": "1163721e-3c2c-4929-8269-27bc1b072cbc"
      },
      "source": [
        "pip install tensorflow"
      ],
      "execution_count": 1,
      "outputs": [
        {
          "output_type": "stream",
          "text": [
            "Requirement already satisfied: tensorflow in /usr/local/lib/python3.6/dist-packages (2.2.0)\n",
            "Requirement already satisfied: six>=1.12.0 in /usr/local/lib/python3.6/dist-packages (from tensorflow) (1.12.0)\n",
            "Requirement already satisfied: google-pasta>=0.1.8 in /usr/local/lib/python3.6/dist-packages (from tensorflow) (0.2.0)\n",
            "Requirement already satisfied: tensorflow-estimator<2.3.0,>=2.2.0 in /usr/local/lib/python3.6/dist-packages (from tensorflow) (2.2.0)\n",
            "Requirement already satisfied: opt-einsum>=2.3.2 in /usr/local/lib/python3.6/dist-packages (from tensorflow) (3.2.1)\n",
            "Requirement already satisfied: grpcio>=1.8.6 in /usr/local/lib/python3.6/dist-packages (from tensorflow) (1.30.0)\n",
            "Requirement already satisfied: scipy==1.4.1; python_version >= \"3\" in /usr/local/lib/python3.6/dist-packages (from tensorflow) (1.4.1)\n",
            "Requirement already satisfied: h5py<2.11.0,>=2.10.0 in /usr/local/lib/python3.6/dist-packages (from tensorflow) (2.10.0)\n",
            "Requirement already satisfied: astunparse==1.6.3 in /usr/local/lib/python3.6/dist-packages (from tensorflow) (1.6.3)\n",
            "Requirement already satisfied: numpy<2.0,>=1.16.0 in /usr/local/lib/python3.6/dist-packages (from tensorflow) (1.18.5)\n",
            "Requirement already satisfied: wrapt>=1.11.1 in /usr/local/lib/python3.6/dist-packages (from tensorflow) (1.12.1)\n",
            "Requirement already satisfied: keras-preprocessing>=1.1.0 in /usr/local/lib/python3.6/dist-packages (from tensorflow) (1.1.2)\n",
            "Requirement already satisfied: wheel>=0.26; python_version >= \"3\" in /usr/local/lib/python3.6/dist-packages (from tensorflow) (0.34.2)\n",
            "Requirement already satisfied: absl-py>=0.7.0 in /usr/local/lib/python3.6/dist-packages (from tensorflow) (0.9.0)\n",
            "Requirement already satisfied: termcolor>=1.1.0 in /usr/local/lib/python3.6/dist-packages (from tensorflow) (1.1.0)\n",
            "Requirement already satisfied: protobuf>=3.8.0 in /usr/local/lib/python3.6/dist-packages (from tensorflow) (3.12.2)\n",
            "Requirement already satisfied: tensorboard<2.3.0,>=2.2.0 in /usr/local/lib/python3.6/dist-packages (from tensorflow) (2.2.2)\n",
            "Requirement already satisfied: gast==0.3.3 in /usr/local/lib/python3.6/dist-packages (from tensorflow) (0.3.3)\n",
            "Requirement already satisfied: setuptools in /usr/local/lib/python3.6/dist-packages (from protobuf>=3.8.0->tensorflow) (49.1.0)\n",
            "Requirement already satisfied: tensorboard-plugin-wit>=1.6.0 in /usr/local/lib/python3.6/dist-packages (from tensorboard<2.3.0,>=2.2.0->tensorflow) (1.7.0)\n",
            "Requirement already satisfied: google-auth<2,>=1.6.3 in /usr/local/lib/python3.6/dist-packages (from tensorboard<2.3.0,>=2.2.0->tensorflow) (1.17.2)\n",
            "Requirement already satisfied: markdown>=2.6.8 in /usr/local/lib/python3.6/dist-packages (from tensorboard<2.3.0,>=2.2.0->tensorflow) (3.2.2)\n",
            "Requirement already satisfied: google-auth-oauthlib<0.5,>=0.4.1 in /usr/local/lib/python3.6/dist-packages (from tensorboard<2.3.0,>=2.2.0->tensorflow) (0.4.1)\n",
            "Requirement already satisfied: requests<3,>=2.21.0 in /usr/local/lib/python3.6/dist-packages (from tensorboard<2.3.0,>=2.2.0->tensorflow) (2.23.0)\n",
            "Requirement already satisfied: werkzeug>=0.11.15 in /usr/local/lib/python3.6/dist-packages (from tensorboard<2.3.0,>=2.2.0->tensorflow) (1.0.1)\n",
            "Requirement already satisfied: rsa<5,>=3.1.4; python_version >= \"3\" in /usr/local/lib/python3.6/dist-packages (from google-auth<2,>=1.6.3->tensorboard<2.3.0,>=2.2.0->tensorflow) (4.6)\n",
            "Requirement already satisfied: pyasn1-modules>=0.2.1 in /usr/local/lib/python3.6/dist-packages (from google-auth<2,>=1.6.3->tensorboard<2.3.0,>=2.2.0->tensorflow) (0.2.8)\n",
            "Requirement already satisfied: cachetools<5.0,>=2.0.0 in /usr/local/lib/python3.6/dist-packages (from google-auth<2,>=1.6.3->tensorboard<2.3.0,>=2.2.0->tensorflow) (4.1.1)\n",
            "Requirement already satisfied: importlib-metadata; python_version < \"3.8\" in /usr/local/lib/python3.6/dist-packages (from markdown>=2.6.8->tensorboard<2.3.0,>=2.2.0->tensorflow) (1.7.0)\n",
            "Requirement already satisfied: requests-oauthlib>=0.7.0 in /usr/local/lib/python3.6/dist-packages (from google-auth-oauthlib<0.5,>=0.4.1->tensorboard<2.3.0,>=2.2.0->tensorflow) (1.3.0)\n",
            "Requirement already satisfied: chardet<4,>=3.0.2 in /usr/local/lib/python3.6/dist-packages (from requests<3,>=2.21.0->tensorboard<2.3.0,>=2.2.0->tensorflow) (3.0.4)\n",
            "Requirement already satisfied: urllib3!=1.25.0,!=1.25.1,<1.26,>=1.21.1 in /usr/local/lib/python3.6/dist-packages (from requests<3,>=2.21.0->tensorboard<2.3.0,>=2.2.0->tensorflow) (1.24.3)\n",
            "Requirement already satisfied: idna<3,>=2.5 in /usr/local/lib/python3.6/dist-packages (from requests<3,>=2.21.0->tensorboard<2.3.0,>=2.2.0->tensorflow) (2.10)\n",
            "Requirement already satisfied: certifi>=2017.4.17 in /usr/local/lib/python3.6/dist-packages (from requests<3,>=2.21.0->tensorboard<2.3.0,>=2.2.0->tensorflow) (2020.6.20)\n",
            "Requirement already satisfied: pyasn1>=0.1.3 in /usr/local/lib/python3.6/dist-packages (from rsa<5,>=3.1.4; python_version >= \"3\"->google-auth<2,>=1.6.3->tensorboard<2.3.0,>=2.2.0->tensorflow) (0.4.8)\n",
            "Requirement already satisfied: zipp>=0.5 in /usr/local/lib/python3.6/dist-packages (from importlib-metadata; python_version < \"3.8\"->markdown>=2.6.8->tensorboard<2.3.0,>=2.2.0->tensorflow) (3.1.0)\n",
            "Requirement already satisfied: oauthlib>=3.0.0 in /usr/local/lib/python3.6/dist-packages (from requests-oauthlib>=0.7.0->google-auth-oauthlib<0.5,>=0.4.1->tensorboard<2.3.0,>=2.2.0->tensorflow) (3.1.0)\n"
          ],
          "name": "stdout"
        }
      ]
    },
    {
      "cell_type": "markdown",
      "metadata": {
        "id": "Uf8haU2E8UKB",
        "colab_type": "text"
      },
      "source": [
        "Nếu đã cài đặt TensorFlow, ta có thể cập nhật nó lên phiên bản mới nhất, thông qua dòng lệnh dưới đây."
      ]
    },
    {
      "cell_type": "code",
      "metadata": {
        "id": "ZkWHqBcP8coK",
        "colab_type": "code",
        "colab": {}
      },
      "source": [
        "pip install --upgrade tensorflow"
      ],
      "execution_count": null,
      "outputs": []
    },
    {
      "cell_type": "markdown",
      "metadata": {
        "id": "Iz8CVSX18mVR",
        "colab_type": "text"
      },
      "source": [
        "Thử nhập thư viện TensorFlow và in ra phiên bản hiện dùng:"
      ]
    },
    {
      "cell_type": "code",
      "metadata": {
        "id": "8Gi4lrfd9EoJ",
        "colab_type": "code",
        "colab": {
          "base_uri": "https://localhost:8080/",
          "height": 35
        },
        "outputId": "d3af1975-528b-4d69-b9d1-c87e8297ffa2"
      },
      "source": [
        "import tensorflow as tf\n",
        "print(\"TF Version:\",tf.__version__)"
      ],
      "execution_count": null,
      "outputs": [
        {
          "output_type": "stream",
          "text": [
            "TF Version: 2.2.0\n"
          ],
          "name": "stdout"
        }
      ]
    },
    {
      "cell_type": "markdown",
      "metadata": {
        "id": "yCBElhBz9agV",
        "colab_type": "text"
      },
      "source": [
        "Như vậy, ta đã tiến hành cài đặt và nhập thư viện TensorFlow vào  chương trình của mình. Thư viện TensorFlow có thể được cài đặt trên các hệ điều hành Windows, Ubuntu, macOs và Raspberry Pi. Ngoài ra, ta còn có thể sử dụng thư viện này dưới dạng docker. Tiếp theo, ta sẽ tìm hiểu về cách sử dụng TensorFlow trong việc xây dựng một đồ thị, đây là bước đầu của việc xây dựng một mạng Neuron trong học máy bằng TensorFlow."
      ]
    },
    {
      "cell_type": "markdown",
      "metadata": {
        "id": "57lWxyK1h4Dq",
        "colab_type": "text"
      },
      "source": [
        "#3. Sử dụng TensorFlow\n",
        "Để hiểu hơn về TensorFlow, cũng như cách thức tính toán giá trị các điểm nút trong mạng neuron, chúng ta thử tìm hiểu các khái niệm, quy tắc cơ bản của TensorFlow.\n",
        "\n",
        "##Khái niệm Tensor\n",
        "Tensor là một mảng có n chiều (n-dimensional array). Chẳng hạn như:\n",
        "\n",
        "\n",
        "*   0-d tensor, còn được gọi là scalar hay chỉ là một số. Ví dụ: 1, 2, -5\n",
        "*   1-d tensor, còn được gọi là vector. Ví dụ: [1 2 3 4], [5 8 7 9]\n",
        "*   2-d tensor, còn được gọi là ma trận(matrix). Ví dụ: [1 2 3; 4 5 6; 7 8 9]\n",
        "*   ...\n",
        "\n",
        "*Minh hoạ tensor*\n",
        "\n",
        "![173ff3067c085606e4ecb194340aa26d.png](https://uphinh.vn/images/2020/07/17/173ff3067c085606e4ecb194340aa26d.png)\n",
        "![6872d9e4f5f26a85889b2f96c5952b31.png](https://uphinh.vn/images/2020/07/17/6872d9e4f5f26a85889b2f96c5952b31.png)\n",
        "\n",
        "\n",
        "\n",
        "\n",
        "\n",
        "## Xây dựng đồ thị (Graph) với **tf.function**\n",
        "Đối với TensorFlow 2x, người ta đã loại bỏ khái niệm **session** để thực thi quá trình tính toán, thay vào đó, người ta dùng các **function** nhằm xây dựng graph một cách dễ dàng hơn. TensorFlow 2.0 cũng có nhiều thay đổi giúp người dùng TensorFlow làm việc hiệu quả hơn. Nó đã loại bỏ các API như tf.app, tf.flags, tf.logging và chuyển các hàm ít được sử dụng tf.* vào các gói con như tf.math. Một vài APIs được thay thế với bản 2.0 - tf.summary, tf.keras.metrics, và tf.keras.optimizers.\n",
        "\n",
        "Một đồ thị thì sẽ bao gồm:\n",
        "*   Đỉnh (node): Thông tin của các toán tử, hằng số, biến.\n",
        "*   Các cạnh (edge): Chứa Tensor.\n",
        "\n",
        "Như vậy, dữ liệu của chúng ta sẽ đi vào các đỉnh, theo các tensor ở cạnh, trả về kết quả ở các đỉnh kế tiếp. \n",
        "![f8573af8519fe2b37edcddc4fb7922de.md.png](https://uphinh.vn/images/2020/07/17/f8573af8519fe2b37edcddc4fb7922de.md.png)\n",
        "\n",
        "\n",
        "\n"
      ]
    },
    {
      "cell_type": "markdown",
      "metadata": {
        "id": "5O544-mjutzg",
        "colab_type": "text"
      },
      "source": [
        "\n",
        "Trong TensorFlow 2x người ta sử dụng tf.function để xây dựng các đồ thị. Một lợi ích khác của tf.function so với sesson của TensorFlow 1x là nó linh hoạt hơn, dễ dàng thực thi hơn như bất cứ hàm nào khác của Python. Ta xét một ví dụ đơn giản sau:"
      ]
    },
    {
      "cell_type": "code",
      "metadata": {
        "id": "8UlhSywSvttb",
        "colab_type": "code",
        "colab": {
          "base_uri": "https://localhost:8080/",
          "height": 53
        },
        "outputId": "7c2cd876-0db6-4ab1-f802-ded420a22f37"
      },
      "source": [
        "import tensorflow as tf\n",
        "\n",
        "@tf.function\n",
        "def square_if_positive(x):\n",
        "    if x > 0:\n",
        "        x = x * x\n",
        "    else:\n",
        "        x = 0\n",
        "    return x\n",
        "\n",
        "print('square_if_positive(2) = {}'.format(square_if_positive(tf.constant(2))))\n",
        "print('square_if_positive(-2) = {}'.format(square_if_positive(tf.constant(-2))))"
      ],
      "execution_count": null,
      "outputs": [
        {
          "output_type": "stream",
          "text": [
            "square_if_positive(2) = 4\n",
            "square_if_positive(-2) = 0\n"
          ],
          "name": "stdout"
        }
      ]
    },
    {
      "cell_type": "markdown",
      "metadata": {
        "id": "a4ZPTQvAw1xx",
        "colab_type": "text"
      },
      "source": [
        "Ở đây, ta hoàn toàn có thể sử dụng các câu lệnh điều khiển cấu trúc của Python, qua đó giúp cho việc xây dựng graph được dễ dàng hơn.\n",
        "\n",
        "Tiếp theo, ta thử xây dựng một layer đơn giản với tf.function như sau:"
      ]
    },
    {
      "cell_type": "code",
      "metadata": {
        "id": "bpcbUcXcx8ZR",
        "colab_type": "code",
        "colab": {
          "base_uri": "https://localhost:8080/",
          "height": 35
        },
        "outputId": "30814705-aa65-47f5-9794-f10ab60c4b6e"
      },
      "source": [
        "import tensorflow as tf \n",
        "\n",
        "def linear_layer(x):\n",
        "    return 2 * x + 1\n",
        "\n",
        "@tf.function\n",
        "def deep_net(x):\n",
        "    return tf.nn.relu(linear_layer(x))\n",
        "\n",
        "deep_net(tf.constant((1, 2, 3)))"
      ],
      "execution_count": null,
      "outputs": [
        {
          "output_type": "execute_result",
          "data": {
            "text/plain": [
              "<tf.Tensor: shape=(3,), dtype=int32, numpy=array([3, 5, 7], dtype=int32)>"
            ]
          },
          "metadata": {
            "tags": []
          },
          "execution_count": 4
        }
      ]
    },
    {
      "cell_type": "markdown",
      "metadata": {
        "id": "rrZwBctayP17",
        "colab_type": "text"
      },
      "source": [
        "Ta thấy, với đầu vào là tensor (1, 2, 3), thông qua lớp layer tuyến tính 2x + 1, ta thu được một tensor, có kết quả là (3, 5, 7).\n"
      ]
    },
    {
      "cell_type": "markdown",
      "metadata": {
        "id": "iZZWjKLlYdhE",
        "colab_type": "text"
      },
      "source": [
        "Tiếp theo, ta sẽ giới thiệu sơ lược mạng neuron trong học máy, và tiến hành thử xây dựng mạng neuron bằng TensorFlow để giải bài toán phân loại chữ số viết tay với data MNIST."
      ]
    },
    {
      "cell_type": "markdown",
      "metadata": {
        "id": "EcVVjTje-Z8g",
        "colab_type": "text"
      },
      "source": [
        "#4. Mạng neuron trong học máy\n",
        "Trước tiên, ta xem xét một ví dụ cơ bản là mô hình **Hồi quy tuyến tính**. Đặt $X_i\\in \\mathbb{R}^p$ là các predictors hay feature, $y_i, \\ i = \\overline{1, n}$ là các giá trị đầu ra, hay các biến mục tiêu của mẫu thứ $i$. Chẳng hạn, ứng với bài toán nhận diện chữ số viết tay, $X_i$ sẽ là ma trận đầu vào của hình ảnh chữ số cần được nhận diện, $y_i$ là giá trị chính xác mà ta cần máy nhận diện ($y_i$ nhận giá trị trong tập $\\{0, 1, 2, ..., 9\\})$. Ta cần xem xét mô hình hồi quy tuyến tính dưới đây:\n",
        "\n",
        "$$y_i = X_i^T\\beta + \\epsilon_i $$\n",
        "\n",
        "trong đó, $\\beta \\in \\mathbb{R}^p$ là tập hợp tất cả các tham số, $\\epsilon_i \\sim N(0, \\sigma^2)$ là phần tử nhiễu tuân theo phân phối chuẩn. \n",
        "\n",
        "Nếu $y_i = \\{0, 1\\}$ biểu diễn biến phân loại của mẫu thứ $i$, ta thường mô hình bài toán ban đầu theo **hồi quy logistic**. Khi đó, giả sử $y_i|X_i\\sim Bernoulli(p_i)$ và \n",
        "\n",
        "$$p_b(y_i = 1|X_i) = \\textrm{sigmod}(X_i^T\\beta) = \\dfrac{1}{1 + \\exp(-X_i^Tb)},$$\n",
        "$$p_b(y_i|X_i) = p_i^{y_i}(1 - p_i)^{1 - y_i}$$\n",
        "trong đó $p_i = p_\\beta(y_i|X_i)$.\n",
        "\n",
        "Để đánh giá mô hình phục vụ cho việc \"học\" của các tham số (theo nghĩa máy học) chúng ta cần xác định *loss function* (hàm mất mát) ứng với mỗi mô hình. Loss function trả về một số thực không âm thể hiện sự chênh lệch giữa hai đại lượng: $\\hat{y}$, label được dự đoán và $y$, label đúng. Trong mọi bài toán supervised learning, mục tiêu của ta luôn bao gồm giảm thiểu tổng giá trị của loss function. Trong trường hợp lý tưởng $\\hat{y} = y$, loss function sẽ trả về giá trị cực tiểu bằng 0 (hiếm khi xảy ra trường hợp này).\n",
        "\n",
        "Ứng với mô hình hồi quy tuyến tính, ta thường định nghĩa loss function như sau:\n",
        "$$L(y_i, X_i; \\beta) = (y_i - X_i^T\\beta)^2$$\n",
        "\n",
        "Chú ý rằng, $X_i^T\\beta$ chính là giá trị dự đoán của ta, do đó, loss function trên được định nghĩa theo cách bình phương độ chênh lệch giữa giá trị dự đoán và giá trị chính xác, $y_i$.\n",
        "\n",
        "Đối với mô hình hồi quy logistic, ta thường định nghĩa hàm loss function như sau:\n",
        "\n",
        "$$L(y_i, X_i; \\beta) = - \\log p_\\beta(y_i|X_i) = - [y_i\\log p_i+(1- p_i)\\log (1 - p_i)]$$\n",
        "\n"
      ]
    },
    {
      "cell_type": "markdown",
      "metadata": {
        "id": "80uepyCXNZBp",
        "colab_type": "text"
      },
      "source": [
        "Trong thư viện TensorFlow, ta có thể định nghĩa rất nhiều loss function, tuỳ thuộc vào bài toán đang giải. Bạn đọc có thể tham khảo thêm tại trang web này: [https://www.tensorflow.org/api_docs/python/tf/keras/losses](https://www.tensorflow.org/api_docs/python/tf/keras/losses).\n",
        "\n",
        "Chẳng hạn, để sử dụng loss function được định nghĩa bởi công thức $L = |y - \\hat{y}|$, ta có thể sử dụng hàm **tf.keras.losses.MeanAbsoluteError()** như dưới đây:\n",
        "\n",
        "\n",
        "\n"
      ]
    },
    {
      "cell_type": "code",
      "metadata": {
        "id": "hpf6KKsYPfZc",
        "colab_type": "code",
        "colab": {
          "base_uri": "https://localhost:8080/",
          "height": 35
        },
        "outputId": "598d9d1d-27b0-4c27-8bcc-395dcf1a83a1"
      },
      "source": [
        "y_true = [[0., 1.], [0., 0.]]\n",
        "y_pred = [[1., 1.], [1., 0.]]\n",
        "# Using 'auto'/'sum_over_batch_size' reduction type.\n",
        "mae = tf.keras.losses.MeanAbsoluteError()\n",
        "mae(y_true, y_pred).numpy()"
      ],
      "execution_count": null,
      "outputs": [
        {
          "output_type": "execute_result",
          "data": {
            "text/plain": [
              "0.5"
            ]
          },
          "metadata": {
            "tags": []
          },
          "execution_count": 14
        }
      ]
    },
    {
      "cell_type": "markdown",
      "metadata": {
        "id": "nxQhIIBlP8c_",
        "colab_type": "text"
      },
      "source": [
        "Để giảm tối thiểu loss function của mô hình đã xây dựng, ta thường tìm các tham số $\\beta$ sao cho trung bình của tất cả các mẫu, tức là tìm $\\beta$ để $\\frac{1}{n}\\sum_{i = 1}^n L(y_i, X_i; \\beta)$ đạt cực tiểu. Bài toán tối ưu này thường có nghiệm lý thuyết (nghiệm chính xác) ứng với các mô hình hồi quy tuyến tính, tuy nhiên đối với hầu hết các trường hợp còn lại như hồi quy logistic, chúng ta cần các phương pháp số để tìm nghiệm xấp xỉ, và điều này thực hiện cũng rất khó khăn. Do đó, các mạng neuron được ra đời để giải quyết các vấn đề này.\n",
        "\n",
        "Nói đơn giản, hầu hết các mạng neuron được xây dựng để giải quyết các bài toán hồi quy hoặc phân loại (như trường hợp hồi quy logistic ở trên), tuy nhiên chúng không đơn thuần sử dụng các hàm tuyến tính $X_i^T\\beta$ để mô hình hoá ánh xạ đi từ $X_i$ tới $y_i$, mạng neuron sử dụng một lớp các hàm phức tạp và tinh vi hơn, thuận tiện cho quá trình biểu diễn ánh xạ đi từ $X_i$ tới $y_i$.\n",
        "\n",
        "Mạng neuron đa lớp (Multilayer neural networks) thường được xem là linh hoạt và sử dụng các hàm xấp xỉ có tính phổ quát hơn (Cybenko, 1989; Hornik, 1991). Do sự phức tạp của mạng neuron, các tham số tối ưu của mô hình cần được tính toán thông qua các phương pháp lặp, tiêu biểu là *mini-batch gradient descent*. Ta có thể minh hoạ một mạng neuron đa lớp như hình dưới đây:\n",
        "\n",
        "[![Mạng neuron đa lớp](https://uphinh.vn/images/2020/07/17/9c9bf04190b7025d48d907336433e464.md.png)](https://uphinh.vn/image/L3YWv)\n",
        "\n"
      ]
    },
    {
      "cell_type": "markdown",
      "metadata": {
        "id": "py38HjYKcqDU",
        "colab_type": "text"
      },
      "source": [
        "#5. Convolutional Neural Network\n",
        "Convolutional Neural Network (CNN) là một cấu trúc phổ biến và rất quen thuộc trong mạng neuron. Nó được ứng dụng nhiều trong Computer Vision, Recommender System, Natural Language Processing,... Ví dụ, khi upload một tấm hình lên Google Hình ảnh, hệ thống của sẽ trả về những thông tin liên quan đến hình ảnh đó.\n",
        "\n",
        "![dcd9e22bd20bd495f17a26bf42e8e2d4.md.png](https://uphinh.vn/images/2020/07/20/dcd9e22bd20bd495f17a26bf42e8e2d4.md.png)\n",
        "\n",
        "CNN là một cấu trúc rộng lớn, trong bài viết này, chúng tôi không đi sâu vào các cấu trúc của nó, mà chỉ mang lại cái nhìn tổng quát, từ đó áp dụng vào mạng neuron trong học máy.\n",
        "\n",
        "## 5.1 Toán tử Convolution (tích chập)\n",
        "\n",
        "Tích chập của hàm số $x$ và $w$ được viết là $x*w$, là 1 phép biến đổi tích phân đặc biệt: \n",
        "\n",
        "$$(x*w)(t) = \\int_{\\mathbb{R}^d}x(a)g(t-a)\\mathrm{d}a$$\n",
        "Trong CNN, ta ký hiệu phần tử thứ nhất của tích chập (tức $x$) là **input**, phần tử thứ hai của tích chập (tức $w$) chính là **kernel**, còn output ($x*w$) chính là **feature map**.\n",
        "\n",
        "Đối với trường hợp rời rạc, tích chập chính là phép nhân ma trận. Ta có thể minh họa ở hình dưới đây:\n",
        "![1c2adb4e587c209289f15b337ed68dc3.png](https://uphinh.vn/images/2020/07/20/1c2adb4e587c209289f15b337ed68dc3.png)\n",
        "\n",
        "Chính vì kích cỡ của kernel nhỏ hơn rất nhiều so với input, nên cho ra output có kích cỡ nhỏ hơn input. Thay vì xử lí trên input, ta chỉ cần xử lý trên **feature map**.\n",
        "\n",
        "Chẳng hạn, với input (kích thước 5x5) và kernel (kích thước 3x3) như hình dưới đây:\n",
        "\n",
        "![584c1dc1354fba35e97c6e433f703ad0.md.png](https://uphinh.vn/images/2020/07/20/584c1dc1354fba35e97c6e433f703ad0.md.png)\n",
        "\n",
        "Ta thu được **feature map** (kích thước 3x3) như sau:\n",
        "\n",
        "![aca7db74f03c91a4bcaf5a4cfdae6378.md.gif](https://miro.medium.com/max/1167/1*VVvdh-BUKFh2pwDD0kPeRA@2x.gif)\n",
        "\n",
        "##5.2 Stride and Padding\n",
        "\n",
        "Stride là khoảng cách giữa 2 kernel khi quét. Với stride = 1, kernel sẽ quét 2 ô ngay cạnh nhau, nhưng với stride = 2, kernel sẽ quét ô số 1 và ô số 3. Bỏ qua ô ở giữa. Điều này nhằm tránh việc lặp lại giá trị ở các ô bị quét.\n",
        "\n",
        "![alt text](https://viblo.asia/uploads/full/dc386839-cbeb-42cf-8d78-4fe6576cffb3.gif)\n",
        "\n",
        "Ứng với stride = 2, ta có:\n",
        "\n",
        "![alt text](https://viblo.asia/uploads/full/c92f73c5-a0d5-490a-99be-450d931ace78.gif)\n",
        "\n",
        "Trong trường hợp muốn giữ nguyên kích cỡ của feature map so với ban đầu, chúng ta sẽ sử dụng **Padding**. Khi ta điều chỉnh padding = 1, tức là ta đã thêm 1 ô xung quanh các cạnh của input, cụ thể như hình dưới đây:\n",
        "\n",
        "![alt text](https://viblo.asia/uploads/full/60eea7f2-735d-45dd-9c62-143411c33b93.gif)\n",
        "\n",
        "\n",
        "##5.3 Pooling\n",
        "\n",
        "Mục đích của **Pooling** trong CNN chính là làm giảm số tham số cần tính toán của mạng neuron, tránh trường hợp overfitting. Loại pooling ta thường gặp nhất là max pooling, lấy giá trị lớn nhất trong một pooling window. Nguyên tắc hoạt động của nó cũng giống với tích chập, nhưng thay vì nhân từng phần tử với kernel, nó chỉ chọn ra một giá trị duy nhất. \n",
        "\n",
        "![alt text](https://viblo.asia/uploads/c611fdb5-87dc-4cb5-85fa-ba312b9a9462.png)\n",
        "\n",
        "##5.4 Cấu trúc của CNN\n",
        "\n",
        "CNN có cấu trúc được tạo thành từ nhiều lớp layer, thông thường chúng sẽ bao gồm các convolution layer, kết hợp với Max Pooling, cùng với việc trải phẳng ma trận ban đầu thành một Fully Connected layer (vector 1D) để tìm ra output. Một cấu trúc CNN thường gặp trong xử lý ảnh được cho ở hình dưới.\n",
        "\n",
        "![alt text](https://viblo.asia/uploads/f087aedf-817a-441f-801f-ddda5d695e31.png)\n",
        "\n",
        "Trong phần tiếp theo, ta sẽ xây dựng một mạng neuron đơn giản, kết hợp với CNN để giải bài toán nhận diện chữ số viết tay với bộ dữ liệu MNIST.\n",
        "\n",
        "\n",
        "\n",
        "\n"
      ]
    },
    {
      "cell_type": "markdown",
      "metadata": {
        "id": "eYUh86Rp9LQc",
        "colab_type": "text"
      },
      "source": [
        "#6. Ví dụ về mạng Neuron đơn giản thông qua bộ dữ liệu MNIST\n",
        "#6.1 Bài toán\n",
        "\n",
        "Người dùng nhập vào một bức ảnh chữ số viết tay bất kỳ, máy tính sẽ trả về kết quả số được viết trong ảnh $n \\in \\{0, 1, 2,... , 9\\} $. Đây là một trong những bài toán phân loại hình ảnh kinh điển. \n",
        "\n",
        "Việc huấn luyện một mô hình deep learning hay neural network nói chung bao gồm các bước:\n",
        "\n",
        "1.   Chuẩn bị dữ liệu\n",
        "2.   Xây dựng network\n",
        "3.   Chọn thuật toán cập nhật nghiệm, xây dựng loss và phương pháp đánh giá mô hình\n",
        "4.   Huấn luyện mô hình\n",
        "5.   Đánh giá mô hình\n",
        "\n",
        "#6.2 Chuẩn bị dữ liệu\n",
        "\n",
        "Đầu tiên, ta tiến hành nhập data MNIST thông qua lệnh *datasets*, thuộc gói *keras* của TensorFlow như sau:"
      ]
    },
    {
      "cell_type": "code",
      "metadata": {
        "id": "AVDr-UEdD_vO",
        "colab_type": "code",
        "colab": {
          "base_uri": "https://localhost:8080/",
          "height": 35
        },
        "outputId": "b09cd199-e742-4870-dc95-da9dbc71346f"
      },
      "source": [
        "import tensorflow as tf\n",
        "\n",
        "print('TF version:',tf.__version__)\n",
        "\n",
        "mnist = tf.keras.datasets.mnist\n"
      ],
      "execution_count": null,
      "outputs": [
        {
          "output_type": "stream",
          "text": [
            "TF version: 2.2.0\n"
          ],
          "name": "stdout"
        }
      ]
    },
    {
      "cell_type": "markdown",
      "metadata": {
        "id": "EAmBzVIcEuMr",
        "colab_type": "text"
      },
      "source": [
        "Mnist là bộ dữ bao gồm 60000 bức ảnh về chữ số viết tay và đều được gán nhãn (label). Mỗi ảnh có kích thước 28 x 28 pixel.\n",
        "\n",
        "Một ảnh trong bộ dữ liệu MNIST có dạng như sau:\n",
        "\n",
        "![eeca1e911dd8fdc0359d2e2953517ac8.png](https://uphinh.vn/images/2020/07/18/eeca1e911dd8fdc0359d2e2953517ac8.png)\n",
        "\n",
        "Tiếp theo, ta cần chia bộ dữ liệu làm 2 phần: training set gồm 60.000 ảnh và test set gồm 10.000 ảnh các chữ số viết tay. Từ training set được chia ra 50000 ảnh cho training, 10000 ảnh cho validation, Test set vẫn giữ nguyên 10.000 ảnh ban đầu.\n",
        "\n",
        "*   **Training set**: dữ liệu dùng để training model.\n",
        "*   **Validation set**: dữ liệu dùng để đánh giá xem model đang dùng thế nào và được dùng điều chỉnh các tham số của model.\n",
        "*   **Test set**: để đánh giá model đang dùng với dữ liệu thực tế.\n",
        "\n"
      ]
    },
    {
      "cell_type": "code",
      "metadata": {
        "id": "TlSWiU44LcTL",
        "colab_type": "code",
        "colab": {
          "base_uri": "https://localhost:8080/",
          "height": 71
        },
        "outputId": "91806d71-e71f-4027-c9f2-f4f213428126"
      },
      "source": [
        "(x_train, y_train), (x_test, y_test) = mnist.load_data()\n",
        "x_val,y_val = x_train[50000:60000,:], y_train[50000:60000]\n",
        "x_train, y_train = x_train[:50000,:], y_train[:50000]\n",
        "print(x_train.shape)\n"
      ],
      "execution_count": null,
      "outputs": [
        {
          "output_type": "stream",
          "text": [
            "Downloading data from https://storage.googleapis.com/tensorflow/tf-keras-datasets/mnist.npz\n",
            "11493376/11490434 [==============================] - 0s 0us/step\n",
            "(50000, 28, 28)\n"
          ],
          "name": "stdout"
        }
      ]
    },
    {
      "cell_type": "markdown",
      "metadata": {
        "id": "TLiifwvZMEix",
        "colab_type": "text"
      },
      "source": [
        "Ta nhận thấy, x_train có shape là (50000, 28, 28) tức là dữ liệu gồm 50000 ma trận có kích thước 28x28. Ta thử in ra giá trị đầu tiên của x_train như sau:"
      ]
    },
    {
      "cell_type": "code",
      "metadata": {
        "id": "9AnHK3bdMZbp",
        "colab_type": "code",
        "colab": {}
      },
      "source": [
        "print(x_train[0])"
      ],
      "execution_count": null,
      "outputs": []
    },
    {
      "cell_type": "markdown",
      "metadata": {
        "id": "SHxqpYZLMvXC",
        "colab_type": "text"
      },
      "source": [
        "Thử in ra hình ảnh đầu tiên của data MNIST, ứng với x_train đầu tiên ở trên bằng thư viện matplotlib."
      ]
    },
    {
      "cell_type": "code",
      "metadata": {
        "id": "LGid2qSUM70U",
        "colab_type": "code",
        "colab": {
          "base_uri": "https://localhost:8080/",
          "height": 283
        },
        "outputId": "9b644443-f3bc-4352-cc8f-9a4ea4907057"
      },
      "source": [
        "import matplotlib.pyplot as plt # thư viện vẽ hình trong python\n",
        "\n",
        "#Vẽ ra x_train đầu tiên\n",
        "plt.imshow(x_train[0], cmap='gray')\n",
        "plt.show()\n",
        "\n",
        "print('gia tri cua y_train dau tien là: ', y_train[0]) #in ra giá trị label đầu tiên ứng với x ở trên"
      ],
      "execution_count": null,
      "outputs": [
        {
          "output_type": "display_data",
          "data": {
            "image/png": "[encoded data removed]",
            "text/plain": [
              "<Figure size 432x288 with 1 Axes>"
            ]
          },
          "metadata": {
            "tags": [],
            "needs_background": "light"
          }
        },
        {
          "output_type": "stream",
          "text": [
            "gia tri cua y_train dau tien là:  5\n"
          ],
          "name": "stdout"
        }
      ]
    },
    {
      "cell_type": "markdown",
      "metadata": {
        "id": "FUgGaTPKNYfL",
        "colab_type": "text"
      },
      "source": [
        "##6.3 Tinh chỉnh dữ liệu\n",
        "\n",
        "Tiếp theo, trước khi tiến hành xây dựng mạng neuron, ta cần tinh chỉnh dữ liệu của mình để tối ưu hoá.\n",
        "\n",
        "Đầu tiên, ta reshape lại data theo yêu cầu của keras: $(N, W, H, D)$ trong đó $N$ là số bức ảnh cho mỗi lần train, vì bài này là ảnh xám có kích thước 28 x 28 nên $W = H = 28, D = 1.$ "
      ]
    },
    {
      "cell_type": "code",
      "metadata": {
        "id": "3io4FY_mOM7v",
        "colab_type": "code",
        "colab": {
          "base_uri": "https://localhost:8080/",
          "height": 53
        },
        "outputId": "4123e88a-4138-45d1-f86c-9f2153b86017"
      },
      "source": [
        "x_train = x_train.reshape(x_train.shape[0],28,28,1)\n",
        "\n",
        "x_val = x_val.reshape(x_val.shape[0],28,28,1)\n",
        "\n",
        "x_test = x_test.reshape(x_test.shape[0],28,28,1)\n",
        "\n",
        "print(x_train.shape)\n",
        "print(y_train)"
      ],
      "execution_count": null,
      "outputs": [
        {
          "output_type": "stream",
          "text": [
            "(50000, 28, 28, 1)\n",
            "[5 0 4 ... 8 4 8]\n"
          ],
          "name": "stdout"
        }
      ]
    },
    {
      "cell_type": "markdown",
      "metadata": {
        "id": "AGkouuWkPEbj",
        "colab_type": "text"
      },
      "source": [
        "Bước tiếp theo, ta sẽ chuyển dữ liệu của y (bao gồm cả tập train, test, val) từ dạng scalar ($n\\in \\{0, 1, 2, ..., 9\\}$ sang dạng vector có 10 phần tử. Chẳng hạn, nếu $y = 5$, ta sẽ chuyển thành vector $ [0, 0, 0, 0, 0, 1, 0, 0, 0, 0]$.\n"
      ]
    },
    {
      "cell_type": "code",
      "metadata": {
        "id": "n0McXi8GP1C1",
        "colab_type": "code",
        "colab": {
          "base_uri": "https://localhost:8080/",
          "height": 71
        },
        "outputId": "60d763e3-a43a-459c-8aa9-f2fa13025a5d"
      },
      "source": [
        "# 4. One hot encoding label (Y)\n",
        "from keras.utils import np_utils\n",
        "Y_train = np_utils.to_categorical(y_train, 10)\n",
        "Y_val = np_utils.to_categorical(y_val, 10)\n",
        "Y_test = np_utils.to_categorical(y_test, 10)\n",
        "print('Dữ liệu y ban đầu ', y_train[0])\n",
        "print('Dữ liệu y sau one-hot encoding ',Y_train[0])"
      ],
      "execution_count": null,
      "outputs": [
        {
          "output_type": "stream",
          "text": [
            "Dữ liệu y ban đầu  5\n",
            "Dữ liệu y sau one-hot encoding  [0. 0. 0. 0. 0. 1. 0. 0. 0. 0.]\n"
          ],
          "name": "stdout"
        },
        {
          "output_type": "stream",
          "text": [
            "Using TensorFlow backend.\n"
          ],
          "name": "stderr"
        }
      ]
    },
    {
      "cell_type": "markdown",
      "metadata": {
        "id": "G5NvlJIiQJcY",
        "colab_type": "text"
      },
      "source": [
        "#6.4 Xây dựng mạng neuron\n",
        "TensorFlow hỗ trợ xây dựng mạng neuron rất thuận tiện. Trước hết, ta sẽ sử dụng keras trong thư viện TensorFlow để xây dựng mô hình. Có hai cách để xây dựng một mô hình với Keras: Sequential API và Functional API. Ta có thể xem xét sự khác nhau giữa chúng thông qua ví dụ dưới đây:"
      ]
    },
    {
      "cell_type": "code",
      "metadata": {
        "id": "KbpxTX99Rqgl",
        "colab_type": "code",
        "colab": {}
      },
      "source": [
        "    #VD: Xây dựng model với Sequential API\n",
        "    # Example of a simple architecture with 3 fully connected layers\n",
        "    from keras.models import Sequential\n",
        "    from keras.layers import Dense, Activation\n",
        "    model = Sequential()\n",
        "    model.add(Dense(64, input_dim=784))\n",
        "    model.add(Activation('relu'))\n",
        "    model.add(Dense(64, input_dim=784))\n",
        "    model.add(Activation('relu'))\n",
        "    model.add(Dense(10, input_dim=784))\n",
        "    model.add(Activation('softmax'))\n",
        "\n",
        "    model.summary()"
      ],
      "execution_count": null,
      "outputs": []
    },
    {
      "cell_type": "code",
      "metadata": {
        "id": "wZHOxbTuSJ_1",
        "colab_type": "code",
        "colab": {}
      },
      "source": [
        "    #VD xây dựng mô hình theo Functional API\n",
        "    # This is an example of the same architecture as above\n",
        "    from keras.layers import Input, Dense\n",
        "    from keras.models import Model\n",
        "    inputs = Input(shape=(784,))\n",
        "    x = Dense(64, activation='relu')(inputs)\n",
        "    x = Dense(64, activation='relu')(x)\n",
        "    predictions = Dense(10, activation='softmax')(x)\n",
        "    # This creates a model that includes\n",
        "    # the Input layer and three Dense layers\n",
        "    model = Model(inputs=inputs, outputs=predictions)\n",
        "\n",
        "    model.summary()"
      ],
      "execution_count": null,
      "outputs": []
    },
    {
      "cell_type": "markdown",
      "metadata": {
        "id": "YNquQP5RSk7H",
        "colab_type": "text"
      },
      "source": [
        "$\\textrm{Sequantial([<a list>])}$ là thể hiện việc các layer được xây dựng theo đúng thứ tự trong $\\textrm{[<a list>]}$. Phần tử đầu tiên của list thể hiện kết nối giữa input layer và layer tiếp theo, các phần tử tiếp theo của list thể hiện kết nối của các layer tiếp theo.\n",
        "\n",
        "Dense thể hiện một fully connected layer, tức toàn bộ các unit của layer trước đó được nối với toàn bộ các unit của layer hiện tại. Giá trị đầu tiên trong Dense bằng 64 thể hiện việc có 64 unit ở layer này, input_shape = 784 chính là kích thước của dữ liệu đầu vào (ma trận 28 x 28).\n",
        "\n",
        "Các layer cũng có thể được thêm lần lượt vào model bằng cách sử dụng hàm **.add()**."
      ]
    },
    {
      "cell_type": "markdown",
      "metadata": {
        "id": "y4CGeQdRTeZh",
        "colab_type": "text"
      },
      "source": [
        "Trở lại bài toán phân loại với data MNIST ban đầu, ta xây dựng mô hình với mạng neuron như sau:"
      ]
    },
    {
      "cell_type": "code",
      "metadata": {
        "id": "hcGGaa3DTvV7",
        "colab_type": "code",
        "colab": {
          "base_uri": "https://localhost:8080/",
          "height": 344
        },
        "outputId": "d46fbe40-b2e8-430a-cad9-bb6514ea0bec"
      },
      "source": [
        "# 5. Định nghĩa model\n",
        "from keras.models import Sequential\n",
        "from keras.layers import Conv2D, MaxPooling2D\n",
        "from keras.layers import Dense, Dropout, Activation, Flatten\n",
        "model = Sequential()\n",
        "\n",
        "# Thêm Convolutional layer với 32 kernel, kích thước kernel 3*3\n",
        "# dùng hàm sigmoid làm activation và chỉ rõ input_shape cho layer đầu tiên\n",
        "model.add(Conv2D(32, (3, 3), activation='sigmoid', input_shape=(28,28,1)))\n",
        "\n",
        "# Thêm Convolutional layer\n",
        "#model.add(Conv2D(32, (3, 3), activation='sigmoid'))\n",
        "\n",
        "# Thêm Max pooling layer\n",
        "model.add(MaxPooling2D(pool_size=(2,2)))\n",
        "\n",
        "# Flatten layer chuyển từ tensor sang vector\n",
        "model.add(Flatten())\n",
        "\n",
        "# Thêm Fully Connected layer với 128 nodes và dùng hàm sigmoid\n",
        "model.add(Dense(128, activation='sigmoid'))\n",
        "\n",
        "# Output layer với 10 node và dùng softmax function để chuyển sang xác xuất.\n",
        "model.add(Dense(10, activation='softmax'))\n",
        "\n",
        "# Tóm tắt model đã xây dựng và số tham số cần ước tính\n",
        "model.summary()"
      ],
      "execution_count": null,
      "outputs": [
        {
          "output_type": "stream",
          "text": [
            "Model: \"sequential_6\"\n",
            "_________________________________________________________________\n",
            "Layer (type)                 Output Shape              Param #   \n",
            "=================================================================\n",
            "conv2d_3 (Conv2D)            (None, 26, 26, 32)        320       \n",
            "_________________________________________________________________\n",
            "max_pooling2d_3 (MaxPooling2 (None, 13, 13, 32)        0         \n",
            "_________________________________________________________________\n",
            "flatten_3 (Flatten)          (None, 5408)              0         \n",
            "_________________________________________________________________\n",
            "dense_17 (Dense)             (None, 128)               692352    \n",
            "_________________________________________________________________\n",
            "dense_18 (Dense)             (None, 10)                1290      \n",
            "=================================================================\n",
            "Total params: 693,962\n",
            "Trainable params: 693,962\n",
            "Non-trainable params: 0\n",
            "_________________________________________________________________\n"
          ],
          "name": "stdout"
        }
      ]
    },
    {
      "cell_type": "markdown",
      "metadata": {
        "id": "NyOGOs-BUC_L",
        "colab_type": "text"
      },
      "source": [
        "Bạn đọc có thể tham khảo thêm thông tin về các lớp layer ở trang web: [https://www.tensorflow.org/api_docs/python/tf/keras/layers/Layer](https://www.tensorflow.org/api_docs/python/tf/keras/layers/Layer)"
      ]
    },
    {
      "cell_type": "markdown",
      "metadata": {
        "id": "uefOMlciUncJ",
        "colab_type": "text"
      },
      "source": [
        "##6.5 Chọn thuật toán cập nhật nghiệm, xây dựng loss function và phương pháp đánh giá mô hình\n",
        "\n",
        "Ở bước này, TensorFlow cho phép ta đơn giản hoá bằng việc truyền các tham số vào hàm **model.compile()**.\n",
        "\n",
        "Chẳng hạn, với bài toán phân loại chữ số viết tay ở trên, nếu chọn thuật toán để cập nhật nghiệm là **Adam**, loss function là **categorical_crossentropy**, phương pháp đánh giá mô hình là **accuracy**, ta làm như sau:"
      ]
    },
    {
      "cell_type": "code",
      "metadata": {
        "id": "3PqouQCFVkxp",
        "colab_type": "code",
        "colab": {}
      },
      "source": [
        "# 6. Compile model, chỉ rõ hàm loss_function nào được sử dụng, phương thức dùng để tối ưu hàm loss function.\n",
        "model.compile(loss='categorical_crossentropy',\n",
        "              optimizer='adam',\n",
        "              metrics=['accuracy'])"
      ],
      "execution_count": null,
      "outputs": []
    },
    {
      "cell_type": "markdown",
      "metadata": {
        "id": "OWZpspQPVriR",
        "colab_type": "text"
      },
      "source": [
        "## 6.6 Huấn luyện mô hình\n",
        "\n",
        "Sử dụng lệnh  **model.fit()** ta tiến hành huấn luyện mô hình như sau:"
      ]
    },
    {
      "cell_type": "code",
      "metadata": {
        "id": "lAVpNCt9WtxE",
        "colab_type": "code",
        "colab": {
          "base_uri": "https://localhost:8080/",
          "height": 398
        },
        "outputId": "298e78f5-52b7-4322-9061-151a729336d2"
      },
      "source": [
        "H = model.fit(x_train, Y_train, validation_data=(x_val, Y_val),\n",
        "          batch_size=32, epochs=10, verbose=1)"
      ],
      "execution_count": null,
      "outputs": [
        {
          "output_type": "stream",
          "text": [
            "Train on 50000 samples, validate on 10000 samples\n",
            "Epoch 1/10\n",
            "50000/50000 [==============================] - 35s 694us/step - loss: 0.5162 - accuracy: 0.8945 - val_loss: 0.1511 - val_accuracy: 0.9632\n",
            "Epoch 2/10\n",
            "50000/50000 [==============================] - 35s 698us/step - loss: 0.1340 - accuracy: 0.9649 - val_loss: 0.0884 - val_accuracy: 0.9761\n",
            "Epoch 3/10\n",
            "50000/50000 [==============================] - 34s 689us/step - loss: 0.0958 - accuracy: 0.9732 - val_loss: 0.0816 - val_accuracy: 0.9767\n",
            "Epoch 4/10\n",
            "50000/50000 [==============================] - 34s 687us/step - loss: 0.0754 - accuracy: 0.9786 - val_loss: 0.0833 - val_accuracy: 0.9769\n",
            "Epoch 5/10\n",
            "50000/50000 [==============================] - 34s 684us/step - loss: 0.0659 - accuracy: 0.9813 - val_loss: 0.0964 - val_accuracy: 0.9711\n",
            "Epoch 6/10\n",
            "50000/50000 [==============================] - 34s 680us/step - loss: 0.0577 - accuracy: 0.9829 - val_loss: 0.0719 - val_accuracy: 0.9787\n",
            "Epoch 7/10\n",
            "50000/50000 [==============================] - 34s 685us/step - loss: 0.0500 - accuracy: 0.9855 - val_loss: 0.0685 - val_accuracy: 0.9809\n",
            "Epoch 8/10\n",
            "50000/50000 [==============================] - 34s 690us/step - loss: 0.0435 - accuracy: 0.9872 - val_loss: 0.0589 - val_accuracy: 0.9831\n",
            "Epoch 9/10\n",
            "50000/50000 [==============================] - 35s 692us/step - loss: 0.0392 - accuracy: 0.9879 - val_loss: 0.0615 - val_accuracy: 0.9828\n",
            "Epoch 10/10\n",
            "50000/50000 [==============================] - 34s 689us/step - loss: 0.0360 - accuracy: 0.9889 - val_loss: 0.0689 - val_accuracy: 0.9803\n"
          ],
          "name": "stdout"
        }
      ]
    },
    {
      "cell_type": "markdown",
      "metadata": {
        "id": "mEhXV6YfXFFB",
        "colab_type": "text"
      },
      "source": [
        "## 6.7 Đánh giá mô hình \n",
        "Để đánh giá mô hình, ta sẽ sử dụng lệnh **model.evaluate()** như sau:\n"
      ]
    },
    {
      "cell_type": "code",
      "metadata": {
        "id": "l648_pD1Xv9I",
        "colab_type": "code",
        "colab": {
          "base_uri": "https://localhost:8080/",
          "height": 53
        },
        "outputId": "918f3c7f-9d8c-4bb1-a0cc-87e53981c54e"
      },
      "source": [
        "model.evaluate(x_test, Y_test)"
      ],
      "execution_count": null,
      "outputs": [
        {
          "output_type": "stream",
          "text": [
            "10000/10000 [==============================] - 2s 187us/step\n"
          ],
          "name": "stdout"
        },
        {
          "output_type": "execute_result",
          "data": {
            "text/plain": [
              "[0.07086349124256522, 0.9789000153541565]"
            ]
          },
          "metadata": {
            "tags": []
          },
          "execution_count": 23
        }
      ]
    },
    {
      "cell_type": "markdown",
      "metadata": {
        "id": "gkKNAfX5X79I",
        "colab_type": "text"
      },
      "source": [
        "##6.8 Dự báo\n",
        "Thử dự đoán một hình ảnh bất kì trong thư viện MNIST, sử dụng mô hình vừa xây dựng."
      ]
    },
    {
      "cell_type": "code",
      "metadata": {
        "id": "L1EjoDKAYimH",
        "colab_type": "code",
        "colab": {
          "base_uri": "https://localhost:8080/",
          "height": 283
        },
        "outputId": "78056135-8180-430c-b39d-25038b14cd7a"
      },
      "source": [
        "image_index = 4445 #nhập số tuỳ ý \n",
        "plt.imshow(x_test[image_index].reshape(28, 28),cmap='Greys')\n",
        "pred = model.predict(x_test[image_index].reshape(1, 28, 28, 1))\n",
        "print(pred.argmax())"
      ],
      "execution_count": null,
      "outputs": [
        {
          "output_type": "stream",
          "text": [
            "2\n"
          ],
          "name": "stdout"
        },
        {
          "output_type": "display_data",
          "data": {
            "image/png": "[encoded data removed]",
            "text/plain": [
              "<Figure size 432x288 with 1 Axes>"
            ]
          },
          "metadata": {
            "tags": [],
            "needs_background": "light"
          }
        }
      ]
    }
  ]
}